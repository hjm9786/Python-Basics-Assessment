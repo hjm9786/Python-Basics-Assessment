{
 "cells": [
  {
   "cell_type": "code",
   "execution_count": null,
   "id": "c8e40299",
   "metadata": {},
   "outputs": [],
   "source": []
  },
  {
   "cell_type": "code",
   "execution_count": 1,
   "id": "137efee6",
   "metadata": {
    "scrolled": true
   },
   "outputs": [],
   "source": [
    "\n",
    "import random\n",
    "f = open(\"words.txt\")\n",
    "wordpool = f.readlines()\n",
    "f.close()\n",
    "\n",
    "word = random.choice(wordpool)\n",
    "word = word[:-1]\n",
    "\n"
   ]
  },
  {
   "cell_type": "code",
   "execution_count": 2,
   "id": "ceb83516",
   "metadata": {},
   "outputs": [],
   "source": [
    "vowels = {'a', 'e', 'i', 'o', 'u'}\n",
    "vowelcost = 250\n",
    "consonants = {'b', 'c', 'd', 'f', 'g', 'h', 'j', 'k', 'l', 'm', 'n', 'p', 'q', 'r', 's', 't', 'v', 'w', 'x', 'y', 'z'}\n",
    "wordlist = list(word)\n",
    "playerguesslist = []\n",
    "playerguesses = []\n",
    "numplayers = 3\n",
    "playerindex = 0\n",
    "amt = 0\n",
    "\n",
    "\n",
    "\n",
    "\n",
    "\n"
   ]
  },
  {
   "cell_type": "code",
   "execution_count": 3,
   "id": "aa90e23f",
   "metadata": {},
   "outputs": [
    {
     "name": "stdout",
     "output_type": "stream",
     "text": [
      "The category is: Random Word\n"
     ]
    }
   ],
   "source": [
    "def printGuessedLetter():\n",
    "    print(\"The puzzle is: \" + ''.join(playerguesslist))\n",
    "\n",
    "print(\"The category is: Random Word\")\n",
    "\n",
    "\n",
    "   "
   ]
  },
  {
   "cell_type": "code",
   "execution_count": 4,
   "id": "bf62cb0a",
   "metadata": {},
   "outputs": [
    {
     "name": "stdout",
     "output_type": "stream",
     "text": [
      "The puzzle is: _______\n"
     ]
    }
   ],
   "source": [
    "for n in wordlist:\n",
    "    playerguesslist.append('_')\n",
    "printGuessedLetter()\n",
    "\n",
    "\n"
   ]
  },
  {
   "cell_type": "code",
   "execution_count": null,
   "id": "057b9094",
   "metadata": {},
   "outputs": [],
   "source": [
    "\n",
    "        "
   ]
  },
  {
   "cell_type": "code",
   "execution_count": 5,
   "id": "c8e55e97",
   "metadata": {},
   "outputs": [
    {
     "name": "stdout",
     "output_type": "stream",
     "text": [
      "Welcome to Wheel of Fortune!\n",
      "We will be playing with 3 players today.\n"
     ]
    }
   ],
   "source": [
    "print(\"Welcome to Wheel of Fortune!\")\n",
    "print(\"We will be playing with 3 players today.\")\n"
   ]
  },
  {
   "cell_type": "code",
   "execution_count": 6,
   "id": "753b3378",
   "metadata": {},
   "outputs": [],
   "source": [
    "#Wheel spinning time\n",
    "spinresult = 0\n",
    "def Spin(int):\n",
    "    global spinresult\n",
    "    spinresult = random.randint(1, 24)\n",
    "\n",
    "#Spin(int)\n",
    "\n"
   ]
  },
  {
   "cell_type": "code",
   "execution_count": 7,
   "id": "6e8fe396",
   "metadata": {},
   "outputs": [],
   "source": [
    "#This is my attempt at the money counter, it did not work.\n",
    "def moneytotal():\n",
    "    totalamt = []\n",
    "    totalamt.append(amt)\n",
    "    return sum(totalamt)"
   ]
  },
  {
   "cell_type": "code",
   "execution_count": 8,
   "id": "f611cefc",
   "metadata": {},
   "outputs": [],
   "source": [
    "    \n",
    "def spinWheel():\n",
    "    lettercount = 0\n",
    "    Spin(int)\n",
    "    if spinresult == 1:\n",
    "        print(\"BANKRUPT\")\n",
    "        print(\"Sorry, you landed on bankrupt. You have lost all your money.\")\n",
    "        print(\"Try to make some back on your next turn!\")\n",
    "        global playerindex\n",
    "        playerindex = (playerindex + 1) % numplayers\n",
    "    elif spinresult in range(2, 18):\n",
    "        print(\"You have landed on\", spinresult * 50, \"dollars.\")\n",
    "        print(\"Guess a letter:\")\n",
    "        global spincash\n",
    "        spincash = 0\n",
    "        spincash = spinresult * 50\n",
    "        letter = input()\n",
    "        if letter in vowels:\n",
    "            print(\"This is a vowel. Please guess a consonant on your next turn.\")\n",
    "            playerindex = (playerindex + 1) % numplayers\n",
    "        elif letter in consonants:\n",
    "            if letter in wordlist:\n",
    "                amt = lettercount * spincash\n",
    "                moneytotal()\n",
    "                print(\"Correct.\")\n",
    "                print(\"You now have\", moneytotal(), \"dollars.\")\n",
    "                lettercount = word.count(letter)\n",
    "                for i in range(len(wordlist)):\n",
    "                    if letter == wordlist[i]:\n",
    "                        letterindex = i\n",
    "                        playerguesslist[letterindex] = letter.upper()\n",
    "                        printGuessedLetter()           \n",
    "            else:\n",
    "                print(\"Sorry, this is incorrect. Please try again on your next turn.\")\n",
    "                playerindex = (playerindex + 1) % numplayers\n",
    "    elif spinresult in range(19, 23):\n",
    "        print(\"You have landed on\", spinresult // 2 * 50, \"dollars.\")\n",
    "        print(\"Guess a letter:\")\n",
    "        spincash = 0\n",
    "        spincash = spinresult * 50\n",
    "        letter = input()\n",
    "        if letter in vowels:\n",
    "            print(\"This is a vowel. Please guess again.\")\n",
    "        elif letter in consonants:\n",
    "            if letter in wordlist:\n",
    "                print(\"Correct.\")\n",
    "                for i in range(len(wordlist)):\n",
    "                    if letter == wordlist[i]:\n",
    "                        letterindex = i\n",
    "                        playerguesslist[letterindex] = letter.upper()\n",
    "                        printGuessedLetter()\n",
    "                amt = lettercount * spincash\n",
    "                #totalamt.append[amt]\n",
    "                moneytotal()\n",
    "                print(\"You now have\", moneytotal(), \"dollars.\")\n",
    "        else:\n",
    "            print(\"Sorry, this is incorrect. Please try again on your next turn.\")\n",
    "            playerindex = (playerindex + 1) % numplayers\n",
    "    else:\n",
    "        print(\"LOSE A TURN\")\n",
    "        print(\"You have landed on lose a turn, sorry! Better luck next turn.\")\n",
    "        playerindex = (playerindex + 1) % numplayers\n",
    "\n",
    "def buyvowel():\n",
    "    print(\"Please choose a vowel to buy. It will cost $250.\")\n",
    "    letter = input()\n",
    "    if letter in vowels:\n",
    "        if letter in wordlist:\n",
    "            print(\"Correct.\")\n",
    "            for i in range(len(wordlist)):\n",
    "                if letter == wordlist[i]:\n",
    "                    letterindex = i\n",
    "                    playerguesslist[letterindex] = letter.upper()\n",
    "                    printGuessedLetter()\n",
    "        else:\n",
    "            print(\"Sorry, this is incorrect. Please try again on your next turn.\")\n",
    "            global playerindex\n",
    "            playerindex = (playerindex + 1) % numplayers\n",
    "    elif letter in consonants:\n",
    "        print(\"Sorry, this letter is a consonant.\")\n",
    "        \n",
    "def solvepuzzle():\n",
    "    print(\"Please type in your guess for the puzzle.\")\n",
    "    solveguess = input()\n",
    "    if solveguess == word:\n",
    "        print(\"Correct! Congratulations. You have solved the puzzle.\")\n",
    "        choice = 4\n",
    "    else:\n",
    "        print(\"Sorry, that is incorrect. Please try again on your next turn.\") \n",
    "        global playerindex\n",
    "        playerindex = (playerindex + 1) % numplayers\n",
    "\n",
    "    "
   ]
  },
  {
   "cell_type": "code",
   "execution_count": 9,
   "id": "3dc0073e",
   "metadata": {
    "scrolled": true
   },
   "outputs": [
    {
     "name": "stdout",
     "output_type": "stream",
     "text": [
      "It is currently Player  0 's turn.\n",
      "What would you like to do?\n",
      "1. Spin the wheel\n",
      "2. Buy a vowel\n",
      "3. Solve the puzzle\n",
      "4. End the round\n",
      "Additionally, typing in any noninteger value will end the round.\n",
      "Type in the number of your selection.\n",
      "f\n",
      "Not a valid interger. Continuing to next round.\n"
     ]
    }
   ],
   "source": [
    "#Actual gameplay:\n",
    "choice = 0\n",
    "try:\n",
    "    while choice != 4:\n",
    "        print(\"It is currently Player \", playerindex,\"'s turn.\")\n",
    "        print(\"What would you like to do?\")\n",
    "        print(\"1. Spin the wheel\")\n",
    "        print(\"2. Buy a vowel\")\n",
    "        print(\"3. Solve the puzzle\")\n",
    "        print(\"4. End the round\")\n",
    "        print(\"Additionally, typing in any noninteger value will end the round.\")\n",
    "        print(\"Type in the number of your selection.\")\n",
    "        choice = int(input())\n",
    "        if choice == 1:\n",
    "            # Wheel spinning logic goes here\n",
    "            spinWheel()    \n",
    "        elif choice == 2:\n",
    "            buyvowel() \n",
    "        elif choice == 3:\n",
    "            solvepuzzle()\n",
    "        else:\n",
    "            print(\"Please enter a valid selection.\")\n",
    "except ValueError as e:\n",
    "    print(\"Not a valid interger. Continuing to next round.\") \n",
    "    choice = 0\n",
    "    \n",
    "    "
   ]
  },
  {
   "cell_type": "code",
   "execution_count": 10,
   "id": "5123d58c",
   "metadata": {},
   "outputs": [
    {
     "name": "stdout",
     "output_type": "stream",
     "text": [
      "We are now moving on to round 2.\n",
      "['_', '_', '_', '_', '_', '_', '_']\n",
      "[]\n",
      "[]\n",
      "[]\n"
     ]
    }
   ],
   "source": [
    "print(\"We are now moving on to round 2.\")\n",
    "del word\n",
    "del wordlist\n",
    "word = random.choice(wordpool)\n",
    "word = word[:-1]\n",
    "wordlist = list(word)\n",
    "print(playerguesslist)\n",
    "print(playerguesses)\n",
    "playerguesslist.clear()\n",
    "playerguesses.clear()\n",
    "playerguesslist = []\n",
    "playerguesses = []\n",
    "numplayers = 3\n",
    "playerindex = 0\n",
    "amt = 0\n",
    "print(playerguesslist)\n",
    "print(playerguesses)\n"
   ]
  },
  {
   "cell_type": "code",
   "execution_count": 11,
   "id": "8a4ff40e",
   "metadata": {},
   "outputs": [
    {
     "name": "stdout",
     "output_type": "stream",
     "text": [
      "The puzzle is: _________\n"
     ]
    }
   ],
   "source": [
    "for n in wordlist:\n",
    "    playerguesslist.append('_')\n",
    "printGuessedLetter()"
   ]
  },
  {
   "cell_type": "code",
   "execution_count": 12,
   "id": "ef8d5d09",
   "metadata": {},
   "outputs": [
    {
     "name": "stdout",
     "output_type": "stream",
     "text": [
      "It is currently Player  0 's turn.\n",
      "What would you like to do?\n",
      "1. Spin the wheel\n",
      "2. Buy a vowel\n",
      "3. Solve the puzzle\n",
      "4. End the round\n",
      "Additionally, typing in any noninteger value will end the round.\n",
      "Type in the number of your selection.\n",
      "f\n",
      "Not a valid interger. Continuing to next round.\n"
     ]
    }
   ],
   "source": [
    "choice = 0\n",
    "try:\n",
    "    while choice != 4:\n",
    "        print(\"It is currently Player \", playerindex,\"'s turn.\")\n",
    "        print(\"What would you like to do?\")\n",
    "        print(\"1. Spin the wheel\")\n",
    "        print(\"2. Buy a vowel\")\n",
    "        print(\"3. Solve the puzzle\")\n",
    "        print(\"4. End the round\")\n",
    "        print(\"Additionally, typing in any noninteger value will end the round.\")\n",
    "        print(\"Type in the number of your selection.\")\n",
    "        choice = int(input())\n",
    "        if choice == 1:\n",
    "            # Wheel spinning logic goes here\n",
    "            spinWheel()    \n",
    "        elif choice == 2:\n",
    "            buyvowel() \n",
    "        elif choice == 3:\n",
    "            solvepuzzle()\n",
    "        else:\n",
    "            print(\"Please enter a valid selection.\")\n",
    "except ValueError as e:\n",
    "    print(\"Not a valid interger. Continuing to next round.\") \n",
    "    choice = 0"
   ]
  },
  {
   "cell_type": "code",
   "execution_count": 13,
   "id": "fbe9723d",
   "metadata": {},
   "outputs": [
    {
     "name": "stdout",
     "output_type": "stream",
     "text": [
      "We will now move onto the bonus round.\n",
      "You will receive the following letters for free:\n",
      "R, S, T, L, N, & E\n",
      "In addition, you will be allowed to guess 3 more consonants, and a vowel.\n"
     ]
    }
   ],
   "source": [
    "print(\"We will now move onto the bonus round.\")\n",
    "print(\"You will receive the following letters for free:\")\n",
    "print(\"R, S, T, L, N, & E\")\n",
    "print(\"In addition, you will be allowed to guess 3 more consonants, and a vowel.\")\n"
   ]
  },
  {
   "cell_type": "code",
   "execution_count": 14,
   "id": "b4601064",
   "metadata": {},
   "outputs": [
    {
     "name": "stdout",
     "output_type": "stream",
     "text": [
      "['_', '_', '_', '_', '_', '_', '_', '_', '_']\n",
      "[]\n",
      "[]\n",
      "[]\n"
     ]
    }
   ],
   "source": [
    "del word\n",
    "del wordlist\n",
    "word = random.choice(wordpool)\n",
    "word = word[:-1]\n",
    "wordlist = list(word)\n",
    "print(playerguesslist)\n",
    "print(playerguesses)\n",
    "playerguesslist.clear()\n",
    "playerguesses.clear()\n",
    "playerguesslist = []\n",
    "playerguesses = []\n",
    "givenletters = ['r', 's', 't', 'l', 'n', 'e']\n",
    "numplayers = 1\n",
    "playerindex = 0\n",
    "amt = 0\n",
    "print(playerguesslist)\n",
    "print(playerguesses)"
   ]
  },
  {
   "cell_type": "code",
   "execution_count": 15,
   "id": "56d13810",
   "metadata": {},
   "outputs": [
    {
     "name": "stdout",
     "output_type": "stream",
     "text": [
      "The puzzle is: _______\n"
     ]
    }
   ],
   "source": [
    "for n in wordlist:\n",
    "    playerguesslist.append('_')\n",
    "printGuessedLetter()"
   ]
  },
  {
   "cell_type": "code",
   "execution_count": 16,
   "id": "ae378c48",
   "metadata": {},
   "outputs": [],
   "source": [
    "def BonusRound():\n",
    "    for i in range(len(wordlist)):\n",
    "        if letter == wordlist[i]:\n",
    "            letterindex = i\n",
    "            playerguesslist[letterindex] = letter.upper()\n",
    "            printGuessedLetter()"
   ]
  },
  {
   "cell_type": "code",
   "execution_count": 19,
   "id": "17ad13a5",
   "metadata": {},
   "outputs": [
    {
     "name": "stdout",
     "output_type": "stream",
     "text": [
      "Here is the puzzle with RSTLNE filled in:\n",
      "The puzzle is: ____LL_\n",
      "The puzzle is: ____LL_\n",
      "Please enter your 3 consonants and vowel selection.\n",
      "First selection: d\n",
      "Second selection: v\n",
      "Third selection: p\n",
      "Fourth selection: a\n",
      "Alright, here is your puzzle:\n",
      "The puzzle is: ____LL_\n",
      "The puzzle is: __V_LL_\n",
      "The puzzle is: _AV_LL_\n",
      "The puzzle is: _AV_LLA\n",
      "You now will have one guess to correctly solve the puzzle. Good luck!\n",
      "davilla\n",
      "Sorry, better luck next time. The correct solution was:  Davilla\n",
      "Thank you for playing! See you next time.\n"
     ]
    }
   ],
   "source": [
    "print(\"Here is the puzzle with RSTLNE filled in:\")\n",
    "letter = 'r'\n",
    "BonusRound()\n",
    "letter = 's'\n",
    "BonusRound()\n",
    "letter = 't'\n",
    "BonusRound()\n",
    "letter = 'l'\n",
    "BonusRound()\n",
    "letter = 'n'\n",
    "BonusRound()\n",
    "letter = 'e'\n",
    "BonusRound()\n",
    "\n",
    "    \n",
    "print(\"Please enter your 3 consonants and vowel selection.\")\n",
    "firstchoice = input(\"First selection: \")\n",
    "\n",
    "while firstchoice in vowels or firstchoice in givenletters:\n",
    "    print(\"That is not a valid selection. Please guess a consonant.\")\n",
    "    firstchoice = input(\"First selection: \")\n",
    "\n",
    "secondchoice = input(\"Second selection: \")\n",
    "\n",
    "while secondchoice in vowels or secondchoice in givenletters:\n",
    "    print(\"That is not a valid selection. Please guess a consonant.\")\n",
    "    secondchoice = input(\"Second selection: \")\n",
    "\n",
    "thirdchoice = input(\"Third selection: \")\n",
    "\n",
    "while thirdchoice in vowels or thirdchoice in givenletters:\n",
    "    print(\"That is not a valid selection. Please guess a consonant.\")\n",
    "    thirdchoice = input(\"Third selection: \")\n",
    "    \n",
    "fourthchoice = input(\"Fourth selection: \")\n",
    "\n",
    "while fourthchoice in givenletters:\n",
    "    print(\"That is not a valid selection. Please guess a consonant.\")\n",
    "    fourthchoice = input(\"Fourth selection: \")\n",
    "\n",
    "print(\"Alright, here is your puzzle:\")\n",
    "printGuessedLetter()\n",
    "letter = firstchoice\n",
    "BonusRound()\n",
    "letter = secondchoice\n",
    "BonusRound()\n",
    "letter = thirdchoice\n",
    "BonusRound()\n",
    "letter = fourthchoice\n",
    "BonusRound()\n",
    "\n",
    "print(\"You now will have one guess to correctly solve the puzzle. Good luck!\")\n",
    "solveguess = input()\n",
    "if solveguess == word:\n",
    "    print(\"Congratualtions! You have solved the bonus puzzle. You have won $50,000 as a prize!\")\n",
    "else:\n",
    "    print(\"Sorry, better luck next time. The correct solution was: \", word)\n",
    "    \n",
    "print(\"Thank you for playing! See you next time.\")"
   ]
  },
  {
   "cell_type": "markdown",
   "id": "68211f24",
   "metadata": {},
   "source": [
    "# "
   ]
  },
  {
   "cell_type": "code",
   "execution_count": null,
   "id": "0a2dcc74",
   "metadata": {},
   "outputs": [],
   "source": []
  }
 ],
 "metadata": {
  "kernelspec": {
   "display_name": "Python 3",
   "language": "python",
   "name": "python3"
  },
  "language_info": {
   "codemirror_mode": {
    "name": "ipython",
    "version": 3
   },
   "file_extension": ".py",
   "mimetype": "text/x-python",
   "name": "python",
   "nbconvert_exporter": "python",
   "pygments_lexer": "ipython3",
   "version": "3.8.8"
  }
 },
 "nbformat": 4,
 "nbformat_minor": 5
}
